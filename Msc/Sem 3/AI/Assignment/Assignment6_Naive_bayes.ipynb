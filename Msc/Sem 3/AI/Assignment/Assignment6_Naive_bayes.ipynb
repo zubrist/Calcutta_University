{
 "cells": [
  {
   "cell_type": "markdown",
   "metadata": {},
   "source": [
    "# Problem Statement:\n",
    "Naïve Bayes classification on play tennis dataset"
   ]
  },
  {
   "cell_type": "markdown",
   "metadata": {},
   "source": [
    "# Algorithm:\n",
    "1. Step 1: Estimate the prior probability of each class based on the frequency of instances belonging to each \n",
    "class in the training dataset.\n",
    "2. Step 2: For each feature in the dataset, calculate the likelihood of observing the feature given each class. \n",
    "This involves computing conditional probabilities.\n",
    "3. Step 3: Use Baye’s theorem to calculate the posterior probability of each cass given the observed features. \n",
    "The formula is: \n",
    "P(Ci|X)=  P(X|Ci)∗P(Ci) / 𝑃(𝑋)\n",
    "\n",
    "Where P(Ci|X) is the porsterior probability of class Ci given festures X, P(X|Ci) is the likelihood, P(Ci) is \n",
    "the prior probability and P(X) is the evidence.\n"
   ]
  },
  {
   "cell_type": "markdown",
   "metadata": {},
   "source": [
    "# Code"
   ]
  },
  {
   "cell_type": "code",
   "execution_count": 2,
   "metadata": {},
   "outputs": [],
   "source": [
    "# import libraries\n",
    "import numpy as np \n",
    "import pandas as pd \n",
    "from sklearn.naive_bayes import GaussianNB\n",
    "import numpy as np"
   ]
  },
  {
   "cell_type": "code",
   "execution_count": 5,
   "metadata": {},
   "outputs": [
    {
     "name": "stdout",
     "output_type": "stream",
     "text": [
      "<class 'pandas.core.frame.DataFrame'>\n",
      "RangeIndex: 14 entries, 0 to 13\n",
      "Data columns (total 6 columns):\n",
      " #   Column    Non-Null Count  Dtype \n",
      "---  ------    --------------  ----- \n",
      " 0   day       14 non-null     object\n",
      " 1   outlook   14 non-null     object\n",
      " 2   temp      14 non-null     object\n",
      " 3   humidity  14 non-null     object\n",
      " 4   wind      14 non-null     object\n",
      " 5   play      14 non-null     object\n",
      "dtypes: object(6)\n",
      "memory usage: 804.0+ bytes\n"
     ]
    }
   ],
   "source": [
    "# load dataset \n",
    "data = pd.read_csv(r\"F:\\Hey!\\Classes\\CU\\SEM 3\\AI\\Lab\\Assignment\\play_tennis.csv\")\n",
    "data.info()\n"
   ]
  },
  {
   "cell_type": "code",
   "execution_count": 6,
   "metadata": {},
   "outputs": [
    {
     "data": {
      "text/plain": [
       "Index(['day', 'outlook', 'temp', 'humidity', 'wind', 'play'], dtype='object')"
      ]
     },
     "execution_count": 6,
     "metadata": {},
     "output_type": "execute_result"
    }
   ],
   "source": [
    "data.columns"
   ]
  },
  {
   "cell_type": "code",
   "execution_count": 8,
   "metadata": {},
   "outputs": [
    {
     "name": "stdout",
     "output_type": "stream",
     "text": [
      "<class 'pandas.core.frame.DataFrame'>\n",
      "RangeIndex: 14 entries, 0 to 13\n",
      "Data columns (total 10 columns):\n",
      " #   Column            Non-Null Count  Dtype\n",
      "---  ------            --------------  -----\n",
      " 0   outlook_Overcast  14 non-null     bool \n",
      " 1   outlook_Rain      14 non-null     bool \n",
      " 2   outlook_Sunny     14 non-null     bool \n",
      " 3   temp_Cool         14 non-null     bool \n",
      " 4   temp_Hot          14 non-null     bool \n",
      " 5   temp_Mild         14 non-null     bool \n",
      " 6   humidity_High     14 non-null     bool \n",
      " 7   humidity_Normal   14 non-null     bool \n",
      " 8   wind_Strong       14 non-null     bool \n",
      " 9   wind_Weak         14 non-null     bool \n",
      "dtypes: bool(10)\n",
      "memory usage: 272.0 bytes\n",
      "None\n",
      "   outlook_Overcast  outlook_Rain  outlook_Sunny  temp_Cool  temp_Hot  \\\n",
      "0             False         False           True      False      True   \n",
      "1             False         False           True      False      True   \n",
      "2              True         False          False      False      True   \n",
      "3             False          True          False      False     False   \n",
      "4             False          True          False       True     False   \n",
      "\n",
      "   temp_Mild  humidity_High  humidity_Normal  wind_Strong  wind_Weak  \n",
      "0      False           True            False        False       True  \n",
      "1      False           True            False         True      False  \n",
      "2      False           True            False        False       True  \n",
      "3       True           True            False        False       True  \n",
      "4      False          False             True        False       True  \n"
     ]
    }
   ],
   "source": [
    "data.head(14)\n",
    "X_train = pd.get_dummies(data[['outlook', 'temp', 'humidity', 'wind']])\n",
    "y_train = pd.DataFrame(data['play'])\n",
    "print(X_train.info())\n",
    "print(X_train.head())\n"
   ]
  },
  {
   "cell_type": "code",
   "execution_count": 13,
   "metadata": {},
   "outputs": [
    {
     "name": "stdout",
     "output_type": "stream",
     "text": [
      "['No']\n"
     ]
    }
   ],
   "source": [
    "import warnings\n",
    "warnings.filterwarnings('ignore')\n",
    "\n",
    "#Create a Gaussian Classifier\n",
    "model = GaussianNB()\n",
    "# Train the model using the training sets \n",
    "model.fit(X_train, y_train)\n",
    "#Predict Output \n",
    "predicted= model.predict([[False,True,False,True,False,True,False,True,False,False]])\n",
    "print (predicted)"
   ]
  }
 ],
 "metadata": {
  "kernelspec": {
   "display_name": "Python 3",
   "language": "python",
   "name": "python3"
  },
  "language_info": {
   "codemirror_mode": {
    "name": "ipython",
    "version": 3
   },
   "file_extension": ".py",
   "mimetype": "text/x-python",
   "name": "python",
   "nbconvert_exporter": "python",
   "pygments_lexer": "ipython3",
   "version": "3.11.7"
  }
 },
 "nbformat": 4,
 "nbformat_minor": 2
}
